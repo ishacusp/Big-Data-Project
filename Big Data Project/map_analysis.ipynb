{
 "cells": [
  {
   "cell_type": "code",
   "execution_count": null,
   "metadata": {},
   "outputs": [],
   "source": [
    "## Importing required packages\n",
    "import pandas as pd\n",
    "import datetime as dt\n",
    "import credentials as cd\n",
    "import geopandas as gpd\n",
    "import shapely"
   ]
  },
  {
   "cell_type": "code",
   "execution_count": null,
   "metadata": {},
   "outputs": [],
   "source": [
    "data = pd.read_csv('output.txt', header=None) ##Output file frmo Hive"
   ]
  },
  {
   "cell_type": "code",
   "execution_count": null,
   "metadata": {},
   "outputs": [],
   "source": [
    "## Renaming the columns\n",
    "data = data.rename(columns = {0:'zone', 1:'taxt_counts', 2:'uber_counts', 3:'ratio'})"
   ]
  },
  {
   "cell_type": "code",
   "execution_count": null,
   "metadata": {},
   "outputs": [],
   "source": [
    "shp = gpd.read_file('nyu_2451_36743/taxi_zones.shp') ## taxi zones shapefile"
   ]
  },
  {
   "cell_type": "code",
   "execution_count": null,
   "metadata": {},
   "outputs": [],
   "source": [
    "for i in range(len(shp.zone)):\n",
    "    if shp.zone[i] in data.zone.unique().tolist():\n",
    "        try:\n",
    "            shp['taxi_count'][i] = data[data.zone == shp.zone[i]].taxt_counts.values[0] \n",
    "        except:\n",
    "            print(data[data.zone == i].taxt_counts)\n",
    "        "
   ]
  },
  {
   "cell_type": "code",
   "execution_count": null,
   "metadata": {},
   "outputs": [],
   "source": [
    "for i in range(len(shp.zone)):\n",
    "    if shp.zone[i] in data.zone.unique().tolist():\n",
    "        try:\n",
    "            shp['uber_count'][i] = data[data.zone == shp.zone[i]].uber_counts.values[0]\n",
    "        except:\n",
    "            shp['uber_count'][i] = 0"
   ]
  },
  {
   "cell_type": "code",
   "execution_count": null,
   "metadata": {},
   "outputs": [],
   "source": [
    "shp['taxi_ratio'] = 0\n",
    "for i in range(len(shp.zone)):\n",
    "    if shp.zone[i] in data.zone.unique().tolist():\n",
    "        try:\n",
    "            shp['taxi_ratio'][i] = data[data.zone == shp.zone[i]].ratio.values[0]\n",
    "        except:\n",
    "            shp['taxi_ratio'][i] = 0"
   ]
  },
  {
   "cell_type": "code",
   "execution_count": null,
   "metadata": {},
   "outputs": [],
   "source": [
    "## Assigning the projection\n",
    "crs = {'init': 'epsg:4326'}\n",
    "taxi_gdf = gpd.GeoDataFrame(shp, crs=crs, geometry=shp.geometry)"
   ]
  },
  {
   "cell_type": "code",
   "execution_count": null,
   "metadata": {},
   "outputs": [],
   "source": [
    "## Plotting Taxi data\n",
    "ax = taxi_gdf.plot(column = 'taxi_count', cmap='viridis', legend=True, figsize=(15,15))\n",
    "ax.axis('off')\n",
    "ax.set_title('Taxi Rides across NYC',size=20)\n",
    "pl.savefig('taxi_map.png')"
   ]
  },
  {
   "cell_type": "code",
   "execution_count": null,
   "metadata": {},
   "outputs": [],
   "source": [
    "## Plotting Uber data\n",
    "ax = taxi_gdf.plot(column = 'uber_count', cmap='viridis', legend=True, figsize=(15,15))\n",
    "ax.axis('off')\n",
    "ax.set_title('Uber Rides across NYC',size=20)\n",
    "pl.savefig('Uber_map.png')"
   ]
  }
 ],
 "metadata": {
  "kernelspec": {
   "display_name": "GB_Python3",
   "language": "python",
   "name": "gb_python3"
  },
  "language_info": {
   "codemirror_mode": {
    "name": "ipython",
    "version": 3
   },
   "file_extension": ".py",
   "mimetype": "text/x-python",
   "name": "python",
   "nbconvert_exporter": "python",
   "pygments_lexer": "ipython3",
   "version": "3.5.4"
  }
 },
 "nbformat": 4,
 "nbformat_minor": 2
}
